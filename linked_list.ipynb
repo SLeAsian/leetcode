{
 "cells": [
  {
   "cell_type": "markdown",
   "metadata": {},
   "source": [
    "[206. Reverse Linked List](#reverse_linked_list)\n",
    "\n",
    "[141. Linked List Cycle](#linked_list_cycle)"
   ]
  },
  {
   "cell_type": "markdown",
   "metadata": {},
   "source": [
    "# 1. Reverse Linked List\n",
    "<a id='reverse_linked_list'></a>\n",
    "https://leetcode.com/problems/reverse-linked-list/\n",
    "\n",
    "intuition:\n",
    "\n",
    "Using stack: linked list can be reversed using stack, first in last out. Beginning keep a pointer at head and add it to stack so the head pointer can change value later.\n",
    "\n",
    "time: O(n) one iteration through stack and one thorough linked list\n",
    "\n",
    "space: O(n) need to keep track of n value\n",
    "\n",
    "In place iterative: keep a pointer prev before the current head at all time. The order of updating as follows:\n",
    "1. set  temp = cur.next, so can be the next cur later on.\n",
    "2. get cur.next to previous so it points backward.\n",
    "3. set prev to cur, so prev is moved on.\n",
    "4. set cur to temp so it is moved on.\n",
    "time: O(n) one iteration\n",
    "\n",
    "space: O(1) in place"
   ]
  },
  {
   "cell_type": "code",
   "execution_count": null,
   "metadata": {},
   "outputs": [],
   "source": [
    "# stack\n",
    "def reverseList(self, head):\n",
    "    stack = []\n",
    "    p = head\n",
    "    while p:\n",
    "        stack.append(p.val)\n",
    "        p = p.next\n",
    "\n",
    "    p = head\n",
    "    for i in range(len(stack)):\n",
    "        p.val = stack.pop()\n",
    "        p = p.next\n",
    "    return head"
   ]
  },
  {
   "cell_type": "code",
   "execution_count": null,
   "metadata": {},
   "outputs": [],
   "source": [
    "# in place iterative\n",
    "def reverseList(self, head):\n",
    "    prev = None\n",
    "    while head:\n",
    "        #save head.next value\n",
    "        temp = head.next\n",
    "        \n",
    "        # get the head.next to previous\n",
    "        head.next = prev\n",
    "        \n",
    "        # move previous to current head\n",
    "        prev = head\n",
    "        \n",
    "        # move head onward\n",
    "        head = temp\n",
    "    return prev"
   ]
  },
  {
   "cell_type": "markdown",
   "metadata": {},
   "source": [
    "# 141. Linked List Cycle\n",
    "<a id='linked_list_cycle'></a>\n",
    "https://leetcode.com/problems/linked-list-cycle/\n",
    "\n",
    "intuition:\n",
    "\n",
    "Use set or hashmap: Keep track of the current head memory location as value in a set. Check if it's repeated or not.\n",
    "\n",
    "time: O(n) one iteration through linked list at worst\n",
    "\n",
    "space: O(n) might need to add up until n head\n",
    "\n",
    "floyd tortoise and hare algorithm: one slow pointer move one at a time and one fast pointer move two at a time. If there is a cycle they'll eventually be the same. If not (step out of bound for fast pointer), no cycle.\n",
    "\n",
    "time: O(n) one iteration at worst when there is a cycle\n",
    "\n",
    "space: O(1) no value stored"
   ]
  },
  {
   "cell_type": "code",
   "execution_count": null,
   "metadata": {},
   "outputs": [],
   "source": [
    "def hasCycle(head):\n",
    "    # set\n",
    "    set_ = set([])\n",
    "    while True:\n",
    "        if head is None:\n",
    "            return False\n",
    "        if head in set_:\n",
    "            return True\n",
    "        set_.add(head)\n",
    "        head = head.next"
   ]
  },
  {
   "cell_type": "code",
   "execution_count": null,
   "metadata": {},
   "outputs": [],
   "source": [
    "def hasCycle(head):\n",
    "    #floyd tortoise and hare\n",
    "    try:\n",
    "        slow = fast = head\n",
    "        while slow:\n",
    "            slow = slow.next\n",
    "            fast = fast.next.next\n",
    "            if slow == fast:\n",
    "                return True\n",
    "    except:\n",
    "        return False"
   ]
  }
 ],
 "metadata": {
  "kernelspec": {
   "display_name": "Python 3.8.9 64-bit",
   "language": "python",
   "name": "python3"
  },
  "language_info": {
   "name": "python",
   "version": "3.8.9"
  },
  "orig_nbformat": 4,
  "vscode": {
   "interpreter": {
    "hash": "31f2aee4e71d21fbe5cf8b01ff0e069b9275f58929596ceb00d14d90e3e16cd6"
   }
  }
 },
 "nbformat": 4,
 "nbformat_minor": 2
}
