{
 "cells": [
  {
   "cell_type": "markdown",
   "metadata": {},
   "source": [
    "[1. Two Sum](#two_sum)\n",
    "\n",
    "[121. Best Time to Buy and Sell Stock](#stocks)"
   ]
  },
  {
   "cell_type": "markdown",
   "metadata": {},
   "source": [
    "# 1. Two Sum\n",
    "<a id='two_sum'></a>\n",
    "https://leetcode.com/problems/two-sum/\n",
    "\n",
    "intuition: https://www.youtube.com/watch?v=KLlXCFG5TnA\n",
    "\n",
    "you can always brute force but you can one pass by:\n",
    "- Using hashmap to store target-cur_val as key in dct. This way when the matching number comes you have old index and current.\n",
    "\n",
    "time: O(n) one pass\n",
    "\n",
    "space: O(n) can potentially add everything into hashmap\n"
   ]
  },
  {
   "cell_type": "code",
   "execution_count": 1,
   "metadata": {},
   "outputs": [],
   "source": [
    "def twoSum(nums, target):\n",
    "    prevMap = {}\n",
    "    for i, num in enumerate(nums):\n",
    "        if num in prevMap:\n",
    "            return [prevMap[num], i]\n",
    "        prevMap[target - num] = i"
   ]
  },
  {
   "cell_type": "code",
   "execution_count": 2,
   "metadata": {},
   "outputs": [
    {
     "data": {
      "text/plain": [
       "[2, 4]"
      ]
     },
     "execution_count": 2,
     "metadata": {},
     "output_type": "execute_result"
    }
   ],
   "source": [
    "twoSum([3,2,4,8,5], 9)"
   ]
  },
  {
   "cell_type": "markdown",
   "metadata": {},
   "source": [
    "# 121. Best Time to Buy and Sell Stock\n",
    "<a id='stocks'></a>\n",
    "\n",
    "https://leetcode.com/problems/best-time-to-buy-and-sell-stock/\n",
    "\n",
    "intuition: https://www.youtube.com/watch?v=1pkOgXD63yU\n",
    "\n",
    "since need to sell stock for a profit, meaning right pointer always need to be greater than left, otherwise its negative. This means:\n",
    "\n",
    "1. To make sure always buy low, left pointer will always be lower than right. Update left to be right if right is lower. This will ensure left is always local min.\n",
    "2. To make sure max profit, keep track of it at every single iteration, so case like [2,8,1,3] won't be an edge case if only check max profit at the end.\n",
    "3. if right pointer is not out of bound (also using condition 1, left is always lower than right), move right pointer right.\n",
    "\n",
    "time: O(n) one pass\n",
    "\n",
    "space: O(1) because nothing is really stored\n",
    "\n",
    "How I think the problem is figured out:\n",
    "\n",
    "1. You need two pointers to track low and high.\n",
    "2. Similar to brute force with two for loop, you fix left pointer and iteratively check which right has highest value.\n",
    "3. But without any modification, that's just brute force, so we observe when right pointer is lower than left, we need to update left to right pointer. This may seem like skipping value between L and R, but we did not. All the values between L and R have already been covered from R pointer moving to the right up until that point, so move L to R pointer is just fine."
   ]
  },
  {
   "cell_type": "code",
   "execution_count": 3,
   "metadata": {},
   "outputs": [],
   "source": [
    "def maxProfit(prices):\n",
    "    l,r = 0, 1\n",
    "    max_p = 0\n",
    "    while r < len(prices):\n",
    "        if prices[l] < prices[r]:\n",
    "            max_p = max(max_p, prices[r] - prices[l])\n",
    "        else: #if l == r, l will also be updated to r\n",
    "            l = r\n",
    "        r += 1 # add r after eveyrthing, otherwise r will move too early\n",
    "    return max_p"
   ]
  },
  {
   "cell_type": "code",
   "execution_count": 4,
   "metadata": {},
   "outputs": [
    {
     "data": {
      "text/plain": [
       "6"
      ]
     },
     "execution_count": 4,
     "metadata": {},
     "output_type": "execute_result"
    }
   ],
   "source": [
    "maxProfit([2,8,1,6])"
   ]
  },
  {
   "cell_type": "code",
   "execution_count": null,
   "metadata": {},
   "outputs": [],
   "source": []
  }
 ],
 "metadata": {
  "interpreter": {
   "hash": "6238c9377cd0a1650191ba44b4dabc802a540415d4bccf8dc3bca8403f4aed01"
  },
  "kernelspec": {
   "display_name": "Python 3.8.9 64-bit",
   "language": "python",
   "name": "python3"
  },
  "language_info": {
   "codemirror_mode": {
    "name": "ipython",
    "version": 3
   },
   "file_extension": ".py",
   "mimetype": "text/x-python",
   "name": "python",
   "nbconvert_exporter": "python",
   "pygments_lexer": "ipython3",
   "version": "3.8.9"
  },
  "orig_nbformat": 4
 },
 "nbformat": 4,
 "nbformat_minor": 2
}
