{
 "cells": [
  {
   "cell_type": "markdown",
   "metadata": {},
   "source": [
    "[1. Two Sum](#two_sum)\n",
    "\n",
    "[121. Best Time to Buy and Sell Stock](#stocks)\n",
    "\n",
    "[238. Product of Array Except Self](#product_of_array_except_self)\n",
    "\n",
    "[53. Maximum Subarray](#max_sum_subarray)\n",
    "\n",
    "[152. Maximum Product Subarray](#max_prod_subarray)\n",
    "\n",
    "[33. Search in Rotated Sorted Array](#search_rotated_sorted_array)\n",
    "\n",
    "[15. 3Sum](#3_sum)"
   ]
  },
  {
   "cell_type": "markdown",
   "metadata": {},
   "source": [
    "# 1. Two Sum\n",
    "<a id='two_sum'></a>\n",
    "https://leetcode.com/problems/two-sum/\n",
    "\n",
    "intuition: https://www.youtube.com/watch?v=KLlXCFG5TnA\n",
    "\n",
    "you can always brute force but you can one pass by:\n",
    "- Using hashmap to store target-cur_val as key in dct. This way when the matching number comes you have old index and current.\n",
    "\n",
    "time: O(n) one pass\n",
    "\n",
    "space: O(n) can potentially add everything into hashmap\n"
   ]
  },
  {
   "cell_type": "code",
   "execution_count": 1,
   "metadata": {},
   "outputs": [],
   "source": [
    "def twoSum(nums, target):\n",
    "    prevMap = {}\n",
    "    for i, num in enumerate(nums):\n",
    "        if num in prevMap:\n",
    "            return [prevMap[num], i]\n",
    "        prevMap[target - num] = i"
   ]
  },
  {
   "cell_type": "code",
   "execution_count": 2,
   "metadata": {},
   "outputs": [
    {
     "data": {
      "text/plain": [
       "[2, 4]"
      ]
     },
     "execution_count": 2,
     "metadata": {},
     "output_type": "execute_result"
    }
   ],
   "source": [
    "twoSum([3,2,4,8,5], 9)"
   ]
  },
  {
   "cell_type": "markdown",
   "metadata": {},
   "source": [
    "# 121. Best Time to Buy and Sell Stock\n",
    "<a id='stocks'></a>\n",
    "\n",
    "https://leetcode.com/problems/best-time-to-buy-and-sell-stock/\n",
    "\n",
    "intuition: https://www.youtube.com/watch?v=1pkOgXD63yU\n",
    "\n",
    "since need to sell stock for a profit, meaning right pointer always need to be greater than left, otherwise its negative. This means:\n",
    "\n",
    "1. To make sure always buy low, left pointer will always be lower than right. Update left to be right if right is lower. This will ensure left is always local min.\n",
    "2. To make sure max profit, keep track of it at every single iteration, so case like [2,8,1,3] won't be an edge case if only check max profit at the end.\n",
    "3. if right pointer is not out of bound (also using condition 1, left is always lower than right), move right pointer right.\n",
    "\n",
    "time: O(n) one pass\n",
    "\n",
    "space: O(1) because nothing is really stored\n",
    "\n",
    "How I think the problem is figured out:\n",
    "\n",
    "1. You need two pointers to track low and high.\n",
    "2. Similar to brute force with two for loop, you fix left pointer and iteratively check which right has highest value.\n",
    "3. But without any modification, that's just brute force, so we observe when right pointer is lower than left, we need to update left to right pointer. This may seem like skipping value between L and R, but we did not. All the values between L and R have already been covered from R pointer moving to the right up until that point, so move L to R pointer is just fine."
   ]
  },
  {
   "cell_type": "code",
   "execution_count": 3,
   "metadata": {},
   "outputs": [],
   "source": [
    "def maxProfit(prices):\n",
    "    l,r = 0, 1\n",
    "    max_p = 0\n",
    "    while r < len(prices):\n",
    "        if prices[l] < prices[r]:\n",
    "            max_p = max(max_p, prices[r] - prices[l])\n",
    "        else: #if l == r, l will also be updated to r\n",
    "            l = r\n",
    "        r += 1 # add r after eveyrthing, otherwise r will move too early\n",
    "    return max_p"
   ]
  },
  {
   "cell_type": "code",
   "execution_count": 4,
   "metadata": {},
   "outputs": [
    {
     "data": {
      "text/plain": [
       "6"
      ]
     },
     "execution_count": 4,
     "metadata": {},
     "output_type": "execute_result"
    }
   ],
   "source": [
    "maxProfit([2,8,1,6])"
   ]
  },
  {
   "cell_type": "markdown",
   "metadata": {},
   "source": [
    "# 238. Product of Array Except Self\n",
    "<a id='product_of_array_except_self'></a>\n",
    "\n",
    "https://leetcode.com/problems/product-of-array-except-self/\n",
    "\n",
    "\n",
    "figured out by myself!\n",
    "\n",
    "cannot use division, need O(n) time complexity and O(1) space complexity (array output doesn't count toward space complexity)\n",
    "\n",
    "1. notice each index needs to be all prod of every other indexes\n",
    "2. notice not ordered and need combination of all other indexes (so not binary search). Also notice cannot sort it since it will be O(nlogn) and cannot use any data structure since itll break O(1) space complexity. Realize only for loop, but how?\n",
    "3. notice each index is made of index's left side nums multipled and right side nums multipled. realize two for loop for forward and backward multipled will do."
   ]
  },
  {
   "cell_type": "code",
   "execution_count": 5,
   "metadata": {},
   "outputs": [],
   "source": [
    "def productExceptSelf(nums):\n",
    "    output = [1]*len(nums)\n",
    "    cur = 1\n",
    "    for i in range(len(nums) - 1):\n",
    "        cur *= nums[i]\n",
    "        output[i + 1] = cur\n",
    "    cur = 1\n",
    "    for i in range(len(nums) - 1, 0, -1):\n",
    "        cur *= nums[i]\n",
    "        output[i - 1] *= cur\n",
    "    return output"
   ]
  },
  {
   "cell_type": "code",
   "execution_count": 6,
   "metadata": {},
   "outputs": [
    {
     "data": {
      "text/plain": [
       "[360, 240, 180, 144, 120]"
      ]
     },
     "execution_count": 6,
     "metadata": {},
     "output_type": "execute_result"
    }
   ],
   "source": [
    "productExceptSelf([2,3,4,5,6])"
   ]
  },
  {
   "cell_type": "markdown",
   "metadata": {},
   "source": [
    "# 53. Maximum Subarray\n",
    "<a id='max_sum_subarray'></a>\n",
    "\n",
    "https://leetcode.com/problems/maximum-subarray/\n",
    "\n",
    "intuition: https://www.youtube.com/watch?v=5WZl3MMT0Eg\n",
    "\n",
    "1. notice O(n^3) time complexity solution, three for loop: one for start to finish we call i (beginning), one from i to finish we call j (end), one for loop to calculate sum of i to j. keep track of max\n",
    "2. notice O(n^2) time complexity solution, no need for the third for loop of calculating sum of i to j every single time, just add the next value of previous sum. example: [1,2,3,4], we are at index 2 with sum of [1,2,3], now we just add 4 instead of all four again.\n",
    "3. notice O(n) time complexity solution, when we add numbers, we dont need to keep track of PREVIOUSLY seen summed negative value that we know will ONLY decrease the maximum possible value, so we just keep track of indexes that will only increase the value. Keep track of max value for every iter! Since there may be big single values that will be forgotten, and they alone are the max subArray.\n",
    "\n",
    "what about values that are after current index that can make value negative? We need to keep track since we do not know if there is a big value later on that will make it greater than before.\n",
    "\n",
    "example: [1,-2,3,4]\n",
    "- from first iteration, currentSum value 1 max 1\n",
    "- second iter, sum value -1 max 1\n",
    "- third iter, we notice the values before 3 will only decrease it so we wipe currentSum to be 0 again and update max value to 3\n",
    "- fourth iter, sum value 7, max 7\n",
    "\n",
    "fyi: kadane's algo can solve this"
   ]
  },
  {
   "cell_type": "code",
   "execution_count": 19,
   "metadata": {},
   "outputs": [],
   "source": [
    "def maxSubArray(nums):\n",
    "    max_sub = nums[0]\n",
    "    cur_sum = 0\n",
    "    \n",
    "    for n in nums:\n",
    "        if cur_sum < 0:\n",
    "            cur_sum = 0\n",
    "        cur_sum += n\n",
    "        max_sub = max(max_sub, cur_sum)\n",
    "    return max_sub"
   ]
  },
  {
   "cell_type": "code",
   "execution_count": 20,
   "metadata": {},
   "outputs": [
    {
     "data": {
      "text/plain": [
       "100"
      ]
     },
     "execution_count": 20,
     "metadata": {},
     "output_type": "execute_result"
    }
   ],
   "source": [
    "maxSubArray([100,-101,1,2,3,4,5,6]) # good example of why max needs to be tracked constantly"
   ]
  },
  {
   "cell_type": "markdown",
   "metadata": {},
   "source": [
    "# 152. Maximum Product Subarray\n",
    "<a id='max_prod_subarray'></a>\n",
    "\n",
    "https://leetcode.com/problems/maximum-product-subarray/\n",
    "\n",
    "intuition: https://www.youtube.com/watch?v=lXVy6YWFcRM&t=50s\n",
    "\n",
    "1. notice O(n^2) solution, loop through two times and keep track of max at every iter.\n",
    "2. problem has three case: positive, negative and zero\n",
    "- positive: total multiplied will get bigger no matter what\n",
    "- negative: This is the key of the problem. We do not know how many negatives there are to make it positive or negative, so using the idea of max and min value at every iter will keep track of both cases: positive case and negative case.\n",
    "- zero: no need to worry about it, since we keep track of max and min with the current index into consideration as well.\n",
    "\n",
    "time complexity: O(n)\n",
    "\n",
    "space complexity: O(1)"
   ]
  },
  {
   "cell_type": "code",
   "execution_count": 23,
   "metadata": {},
   "outputs": [],
   "source": [
    "def maxProduct(nums):\n",
    "    cur_max, cur_min = 1, 1\n",
    "    max_val = max(nums)\n",
    "    #max, min for each index because there is negative to keep track of\n",
    "    for num in nums:\n",
    "        tmp = cur_max*num #need this here so won't override cur_max when inside cur_min declaration\n",
    "        cur_max = max(tmp, cur_min*num, num) # compare all possible value at each iter: index itself, i*max, and i*min (may result in pos)\n",
    "        cur_min = min(tmp, cur_min*num, num)\n",
    "        max_val = max(max_val, cur_max)\n",
    "    return max_val"
   ]
  },
  {
   "cell_type": "code",
   "execution_count": 24,
   "metadata": {},
   "outputs": [
    {
     "data": {
      "text/plain": [
       "3"
      ]
     },
     "execution_count": 24,
     "metadata": {},
     "output_type": "execute_result"
    }
   ],
   "source": [
    "maxProduct([1,2,-100,0,3])"
   ]
  },
  {
   "cell_type": "markdown",
   "metadata": {},
   "source": [
    "# 33. Search in Rotated Sorted Array\n",
    "<a id='search_rotated_sorted_array'></a>\n",
    "\n",
    "https://leetcode.com/problems/search-in-rotated-sorted-array/\n",
    "\n",
    "figured out by myself first try!\n",
    "\n",
    "intuition:\n",
    "- search sorted array will likely be binary search.\n",
    "- rotate or not, its still ordered, just need to take pivot into account\n",
    "- only three cases: no rotation, pivot right, and pivot left\n",
    "\n",
    "1. check if one side is pivotted (I did right side) and see if target is in pivot, if not move right pointer to mid, else left to mid + 1\n",
    "2. if not pivotted, check target is in right side or not, move pointer like above\n",
    "3. pointers will eventually converge to one index\n",
    "\n",
    "time comlexity: O(logn)\n",
    "\n",
    "space complexity: O(1)"
   ]
  },
  {
   "cell_type": "code",
   "execution_count": 37,
   "metadata": {},
   "outputs": [],
   "source": [
    "def search(nums, target):\n",
    "    l,r = 0, len(nums) - 1\n",
    "    while l < r:\n",
    "        mid = (l+ r)//2\n",
    "        \n",
    "        #early return to save compute\n",
    "        if nums[l] == target:\n",
    "            return l\n",
    "        if nums[r] == target:\n",
    "            return r\n",
    "        if nums[mid] == target:\n",
    "            return mid\n",
    "        \n",
    "        #check if right is pivot\n",
    "        if nums[mid] > nums[r]:\n",
    "            if (nums[mid] < target) or (target <= nums[r]):\n",
    "                l = mid + 1\n",
    "            else:\n",
    "                r = mid\n",
    "        #if not pivot, right is ordered and left can either be pivot or not, use else since left checking cond is already covered within\n",
    "        else:\n",
    "            if nums[mid] < target and target < nums[r]:\n",
    "                l = mid + 1\n",
    "            else:\n",
    "                r = mid\n",
    "    \n",
    "    if nums[l] != target:\n",
    "        return -1\n",
    "    return l"
   ]
  },
  {
   "cell_type": "code",
   "execution_count": 38,
   "metadata": {},
   "outputs": [
    {
     "data": {
      "text/plain": [
       "3"
      ]
     },
     "execution_count": 38,
     "metadata": {},
     "output_type": "execute_result"
    }
   ],
   "source": [
    "search([9,10,11,12,1,3,5,6,7,8], 12)"
   ]
  },
  {
   "cell_type": "markdown",
   "metadata": {},
   "source": [
    "# 15. 3Sum\n",
    "<a id='3_sum'></a>\n",
    "https://leetcode.com/problems/3sum/\n",
    "\n",
    "intuition: https://www.youtube.com/watch?v=jzZsG8n2R9A\n",
    "\n",
    "my failed approach (IMPORTANT):\n",
    "- sort nums for left and right comparison\n",
    "- thought I can start l = 0 r = len(nums) - 1 and move mid pointer to find if sum to zero, then shift either left or right pointer (depending if left is greater magnitude than right or vice versa), then update mid to the right of left.\n",
    "    - this causes some edge case: example [-4,-3,-1,0,4], if left and right have same magnitude, how would you know which to shift? you don't.\n",
    "- FYI: there are multiple combination that can form to zero, assuming first -1 is fixed [-1,0,1], [-1,1,2]\n",
    "\n",
    "correct approach:\n",
    "- notice if i don't sort, we cannot avoid extra memory usage to keep track of duplicates (and its difficult to track since can't really design a hashmap of lists in short time), so sort. example[-3,2,1,-3]\n",
    "- notice idea of \"solution set must not contain duplicate triplets\" is combination, and in combination if 1 number is guaranteed to be unique at each search, then no duplciates will occur.\n",
    "1. sort\n",
    "2. for loop up to third to last\n",
    "3. at each iteration calculate two sum to see if it sums up to 0"
   ]
  },
  {
   "cell_type": "code",
   "execution_count": 66,
   "metadata": {},
   "outputs": [],
   "source": [
    "def threeSum(nums):\n",
    "    res = []\n",
    "    nums.sort()\n",
    "\n",
    "    for i, a in enumerate(nums):\n",
    "        if i > 0 and a == nums[i - 1]:\n",
    "            continue\n",
    "        l, r = i + 1, len(nums) - 1\n",
    "        while l < r: \n",
    "            threeSum = a + nums[l] + nums[r]\n",
    "            if threeSum > 0:\n",
    "                r -= 1\n",
    "            elif threeSum < 0:\n",
    "                l += 1\n",
    "            else:\n",
    "                res += [[a, nums[l], nums[r]]]\n",
    "                l += 1\n",
    "                # elegant update:\n",
    "                # only need to continuous update here, because while loop above will take care of r and l shifts due to unique solution\n",
    "                # can only show up once. ex: [-2,-2,0,0,2,2], found [-2,0,2], if continously update left until left is at 0, notice\n",
    "                # right will move in beacuse sum will always be greater than 0 when 0,0,2 or 0,2,2\n",
    "                while nums[l] == nums[l-1] and l < r:\n",
    "                    l+= 1\n",
    "    return res"
   ]
  },
  {
   "cell_type": "code",
   "execution_count": 67,
   "metadata": {},
   "outputs": [],
   "source": [
    "#my solution, same, but i did not use elegant update like commented above\n",
    "def threeSum(nums):\n",
    "    if len(nums) < 3:\n",
    "        return []\n",
    "    lst = []\n",
    "    nums.sort()\n",
    "    for i in range(len(nums) - 2):\n",
    "        if i > 0 and nums[i] == nums[i - 1]:\n",
    "            continue\n",
    "        temp = twoSum(nums[i + 1:], nums[i])\n",
    "        if len(temp) > 0:\n",
    "            lst += temp\n",
    "    return lst\n",
    "    \n",
    "def twoSum(nums, first_num):\n",
    "    temp_lst = []\n",
    "    l, r = 0, len(nums) - 1\n",
    "    while l < r:\n",
    "        threeSum = first_num + nums[l] + nums[r]\n",
    "        if threeSum == 0:\n",
    "            temp_lst += [[first_num, nums[l], nums[r]]]\n",
    "            l += 1\n",
    "            while nums[l] == nums[l - 1] and l < r:\n",
    "                l += 1\n",
    "        elif threeSum > 0:\n",
    "            r -= 1\n",
    "            while nums[r] == nums[r + 1] and l < r:\n",
    "                r -= 1\n",
    "        else:\n",
    "            l += 1\n",
    "            while nums[l] == nums[l - 1] and l < r:\n",
    "                l += 1\n",
    "    return temp_lst"
   ]
  },
  {
   "cell_type": "code",
   "execution_count": 68,
   "metadata": {},
   "outputs": [
    {
     "data": {
      "text/plain": [
       "[[-1, -1, 2], [-1, 0, 1]]"
      ]
     },
     "execution_count": 68,
     "metadata": {},
     "output_type": "execute_result"
    }
   ],
   "source": [
    "threeSum([-4,-1,-1,0,1,2])"
   ]
  }
 ],
 "metadata": {
  "interpreter": {
   "hash": "6238c9377cd0a1650191ba44b4dabc802a540415d4bccf8dc3bca8403f4aed01"
  },
  "kernelspec": {
   "display_name": "Python 3",
   "language": "python",
   "name": "python3"
  },
  "language_info": {
   "codemirror_mode": {
    "name": "ipython",
    "version": 3
   },
   "file_extension": ".py",
   "mimetype": "text/x-python",
   "name": "python",
   "nbconvert_exporter": "python",
   "pygments_lexer": "ipython3",
   "version": "3.8.8"
  }
 },
 "nbformat": 4,
 "nbformat_minor": 2
}
