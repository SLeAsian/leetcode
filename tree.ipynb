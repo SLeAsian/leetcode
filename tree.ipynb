{
 "cells": [
  {
   "attachments": {},
   "cell_type": "markdown",
   "metadata": {},
   "source": [
    "BFS and DFS space and time complexities\n",
    "- https://stackoverflow.com/questions/9844193/what-is-the-time-and-space-complexity-of-a-breadth-first-and-depth-first-tree-tr\n",
    "\n",
    "### DFS and BFS time complexity: O(n)\n",
    "- Because this is tree traversal, we must touch every node, making this O(n) where n is the number of nodes in the tree.\n",
    "\n",
    "### BFS space complexity: O(n)\n",
    "- BFS will have to store at least an entire level of the tree in the queue (sample queue implementation). With a perfect fully balanced binary tree, this would be (n/2 + 1) nodes (the very last level). Best Case (in this context), the tree is severely unbalanced and contains only 1 element at each level and the space complexity is O(1). Worst Case would be storing (n - 1) nodes with a fairly useless N-ary tree where all but the root node are located at the second level.\n",
    "\n",
    "### DFS space complexity: O(d)\n",
    "- Regardless of the implementation (recursive or iterative), the stack (implicit or explicit) will contain d nodes, where d is the maximum depth of the tree. With a balanced tree, this would be (log n) nodes. Worst Case for DFS will be the best case for BFS, and the Best Case for DFS will be the worst case for BFS.\n",
    "\n",
    "DFS:\n",
    "- Stack\n",
    "\n",
    "BFS:\n",
    "- Queue"
   ]
  },
  {
   "attachments": {},
   "cell_type": "markdown",
   "metadata": {},
   "source": [
    "[104. Maximum Depth of Binary Tree](#max_depth_binary_tree)\n",
    "\n",
    "[100. Same Tree](#same_tree)\n"
   ]
  },
  {
   "cell_type": "markdown",
   "metadata": {},
   "source": [
    "# 104. Maximum Depth of Binary Tree\n",
    "<a id='max_depth_binary_tree'></a>\n",
    "https://leetcode.com/problems/maximum-depth-of-binary-tree/\n",
    "\n",
    "intuition:\n",
    "- https://www.youtube.com/watch?v=hTM3phVI6YQ (bfs and iterative/dfs)\n",
    "- https://leetcode.com/problems/maximum-depth-of-binary-tree/discuss/359949/Python-recursive-and-iterative-solution (recursion/dfs and level order traversal/bfs)\n",
    "\n",
    "recursion/dfs:\n",
    "- recursion will hit base case for each branch first before moving on to the next one, causing it to be dfs.\n",
    "- Max comparison at each branch, as base case is reached each path will start to be added up from bottom up.\n",
    "- With comparison at each path when coming back up, each branch's max depth is found and eventually reach one max value.\n",
    "\n",
    "iterative dfs:\n",
    "- Same as above, comapre max at each branch.\n",
    "- Use stack, first in last out to simulate depth first search.\n",
    "- Need to keep track of depth for each node, so comparison is possible.\n",
    "\n",
    "iterative (level-order-traversal, bfs):\n",
    "1. Have a queue to keep track of which node to visit in order, a count, and the number of node left at each level.\n",
    "2. Start with queue of length 1 (root) and traverse each level. At each node add children nodes to visit at the end of queue.\n",
    "3. At the end of each level, update number of nodes left at new level and update count.\n",
    "\n",
    "time complexity:\n",
    "- recursion/dfs:\n",
    "    - O(n), every node is visited.\n",
    "\n",
    "- iterative (level-order-traversal, bfs):\n",
    "    - O(n), every node is visited.\n",
    "\n",
    "space:\n",
    "- recursion/dfs:\n",
    "    - logn on average for a balanced tree, \n",
    "    - O(n) worst case, degenerate tree (looks like linked list, only 1 child per node), beacuse the stack would be n length.\n",
    "\n",
    "- iterative (level-order-traversal, bfs):\n",
    "    - big theta(1) best case (degenerate tree looks like linked list, only 1 child per node), queue store one item at each level then update immediately.\n",
    "    - O(n/2-1) = O(n) worse case, the max leaf width of a given level, because that's when the queue is most populated."
   ]
  },
  {
   "cell_type": "code",
   "execution_count": 1,
   "metadata": {},
   "outputs": [],
   "source": [
    "#recursion/bfs\n",
    "def maxDepth(self, root):\n",
    "    if root is None:\n",
    "        return 0\n",
    "    return max(self.maxDepth(root.left), self.maxDepth(root.right)) + 1"
   ]
  },
  {
   "cell_type": "code",
   "execution_count": null,
   "metadata": {},
   "outputs": [],
   "source": [
    "#iterative dfs\n",
    "def maxDepth(root):\n",
    "    stack = [[root,1]]\n",
    "    res = 0\n",
    "    \n",
    "    while stack:\n",
    "        node, depth = stack.pop()\n",
    "        \n",
    "        if node:\n",
    "            res = max(res, depth)\n",
    "            stack.append([node.left, depth + 1])\n",
    "            stack.append([node.right, depth + 1])\n",
    "    return res"
   ]
  },
  {
   "cell_type": "code",
   "execution_count": 2,
   "metadata": {},
   "outputs": [],
   "source": [
    "#iterative (level-order-traversal, bfs)\n",
    "from collections import deque\n",
    "#using deque for faster left pop, otherwise python list would work but each pop at left will need O(n) operation.\n",
    "def maxDepth(root):\n",
    "    if not root:\n",
    "        return 0\n",
    "    q = deque([root])\n",
    "    level_count = 0\n",
    "    num_node_level = 1\n",
    "    while q:\n",
    "        node = q.popleft()\n",
    "        if node.left:\n",
    "            q.append(node.left)\n",
    "        if node.right:\n",
    "            q.append(node.right)\n",
    "        num_node_level -= 1\n",
    "        if num_node_level == 0:\n",
    "            level_count += 1\n",
    "            num_node_level = len(q)\n",
    "    return level_count"
   ]
  },
  {
   "attachments": {},
   "cell_type": "markdown",
   "metadata": {},
   "source": [
    "# 100. Same Tree\n",
    "<a id='same_tree'></a>\n",
    "https://leetcode.com/problems/same-tree/description/\n",
    "\n",
    "intuition:\n",
    "figured out by myself!\n",
    "\n",
    "recursion/dfs:\n",
    "- make sure know base case\n",
    "\n",
    "iterative dfs:\n",
    "- stack for first in last out\n",
    "\n",
    "time complexity:\n",
    "- recursion/dfs:\n",
    "    - O(n), every node is visited.\n",
    "\n",
    "- iterative (bfs):\n",
    "    - O(n), every node is visited.\n",
    "\n",
    "space:\n",
    "- recursion/dfs:\n",
    "    - logn on average for a balanced tree, \n",
    "    - O(n) worst case, degenerate tree (looks like linked list, only 1 child per node), beacuse the stack would be n length.\n",
    "\n",
    "- iterative (bfs):\n",
    "    - big theta(1) best case (degenerate tree looks like linked list, only 1 child per node), queue store one item at each level then update immediately.\n",
    "    - O(n/2-1) = O(n) worse case, the max leaf width of a given level, because that's when the queue is most populated."
   ]
  },
  {
   "cell_type": "code",
   "execution_count": null,
   "metadata": {},
   "outputs": [],
   "source": [
    "# Definition for a binary tree node.\n",
    "# class TreeNode:\n",
    "#     def __init__(self, val=0, left=None, right=None):\n",
    "#         self.val = val\n",
    "#         self.left = left\n",
    "#         self.right = right\n",
    "\n",
    "#dfs recursion\n",
    "def isSameTree(self, p: Optional[TreeNode], q: Optional[TreeNode]) -> bool:\n",
    "    def dfs(p, q):\n",
    "        if p == None and q == None:\n",
    "            return True\n",
    "        if ((p == None or q == None) or\n",
    "        (p.val != q.val)):\n",
    "            return False\n",
    "        final_match = all([dfs(p.left, q.left)\n",
    "        ,dfs(p.right, q.right)])\n",
    "        return final_match\n",
    "    return dfs(p,q)\n",
    "\n",
    "#dfs stack\n",
    "def isSameTree(self, p: Optional[TreeNode], q: Optional[TreeNode]) -> bool:\n",
    "    stack = [(p,q)]\n",
    "    while stack:\n",
    "        left_t, right_t = stack.pop()\n",
    "        if (left_t == None and right_t == None):\n",
    "            continue\n",
    "        if ((left_t == None and right_t != None) or\n",
    "            (left_t != None and right_t == None) or\n",
    "            (left_t.val != right_t.val)):\n",
    "            return False\n",
    "\n",
    "        stack.append((left_t.left, right_t.left))\n",
    "        stack.append((left_t.right, right_t.right))\n",
    "    return True"
   ]
  }
 ],
 "metadata": {
  "kernelspec": {
   "display_name": "Python 3",
   "language": "python",
   "name": "python3"
  },
  "language_info": {
   "codemirror_mode": {
    "name": "ipython",
    "version": 3
   },
   "file_extension": ".py",
   "mimetype": "text/x-python",
   "name": "python",
   "nbconvert_exporter": "python",
   "pygments_lexer": "ipython3",
   "version": "3.10.8 (main, Oct 13 2022, 09:48:40) [Clang 14.0.0 (clang-1400.0.29.102)]"
  },
  "orig_nbformat": 4,
  "vscode": {
   "interpreter": {
    "hash": "b0fa6594d8f4cbf19f97940f81e996739fb7646882a419484c72d19e05852a7e"
   }
  }
 },
 "nbformat": 4,
 "nbformat_minor": 2
}
