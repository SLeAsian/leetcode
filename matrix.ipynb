{
 "cells": [
  {
   "attachments": {},
   "cell_type": "markdown",
   "metadata": {},
   "source": [
    "[73. Set Matrix Zeroes](#set_matrix_zeroes)\n",
    "\n",
    "[54. Spiral Matrix](#spiral_matrix)\n",
    "\n",
    "[48. Rotate Image](#rotate_image)\n",
    "\n",
    "[79. Word Search](#word_search)"
   ]
  },
  {
   "cell_type": "markdown",
   "metadata": {},
   "source": [
    "# 73. Set Matrix Zeroes\n",
    "<a id='set_matrix_zeroes'></a>\n",
    "https://leetcode.com/problems/set-matrix-zeroes/\n",
    "\n",
    "intuition:\n",
    "\n",
    "https://www.youtube.com/watch?v=T41rL0L3Pnw\n",
    "\n",
    "My first solution:\n",
    "- Use two set to keep track of row and column axis. Reason why use set because only care about unique row and columns to set zero on.\n",
    "- loop through matrix two times, one to capture two set's value and one to fill the zero.\n",
    "\n",
    "time: O(m*n) technically 2*m*n\n",
    "\n",
    "space: O(m+n)\n",
    "\n",
    "Optimal solution:\n",
    "- because looping from top left to bottom right, we can use first row and first column to keep track of where to zero.\n",
    "    - KEEP IN MIND, the order is EXTREMELY important. tracking of zero for column and row CANNOT overlap, otherwise will cause zeroing out in wrong places.\n",
    "1. Track if first row need to be wiped to zero, save the track of whether to wipe for now and DO NOT wipe first row yet. We need first row for tracking the columns to wipe.\n",
    "2. Loop through entire matrix to track row and columns to wipe at first row and first column.\n",
    "3. Wipe each row after starting from second row.\n",
    "4. Wipe each column.\n",
    "5. Wipe first row if tracker is True.\n",
    "\n",
    "info:\n",
    "- having one value stored at all time is still O(1) space\n",
    "\n",
    "time: O(m*n) m*n + m + m*n + n"
   ]
  },
  {
   "cell_type": "code",
   "execution_count": 89,
   "metadata": {},
   "outputs": [],
   "source": [
    "matrix = [[-4,-2147483648,6,-7,0],[-8,6,-8,-6,0],[2147483647,2,-9,-6,-10]]"
   ]
  },
  {
   "cell_type": "code",
   "execution_count": 90,
   "metadata": {},
   "outputs": [],
   "source": [
    "def setZeroes(matrix):\n",
    "    m_tracker = set()\n",
    "    n_tracker = set()\n",
    "    for m, row in enumerate(matrix):\n",
    "        row_wipe = False\n",
    "        for n, val in enumerate(row):\n",
    "            if val == 0:\n",
    "                m_tracker.add(m)\n",
    "                n_tracker.add(n)\n",
    "    for m, row in enumerate(matrix):\n",
    "        if m in m_tracker:\n",
    "            matrix[m] = [0 for i in range(len(row))]\n",
    "        for n, val in enumerate(row):\n",
    "            if n in n_tracker:\n",
    "                row[n] = 0"
   ]
  },
  {
   "cell_type": "code",
   "execution_count": 91,
   "metadata": {},
   "outputs": [],
   "source": [
    "def setZeroes(matrix):\n",
    "    \"\"\"\n",
    "    Do not return anything, modify matrix in-place instead.\n",
    "    \"\"\"\n",
    "    #set tracker for first row to wipe or not\n",
    "    first_row = 1\n",
    "    for val in matrix[0]:\n",
    "        if val == 0:\n",
    "            first_row = 0\n",
    "\n",
    "    #starting from 2nd row, keep track of row\n",
    "    # and col to wipe, store at first row and col\n",
    "    # (why not start at first row? cause first row is \n",
    "    # already tracking itself for col to wipe)\n",
    "    for m, row in enumerate(matrix[1:]):\n",
    "        m += 1\n",
    "        for n, val in enumerate(row):\n",
    "            if val == 0:\n",
    "                matrix[0][n] = 0\n",
    "                matrix[m][0] = 0       \n",
    "\n",
    "    #wipe row after first col\n",
    "    for m, row in enumerate(matrix[1:]):\n",
    "        m += 1\n",
    "        if row[0] == 0:\n",
    "            matrix[m] = [0 for i in range(len(row))]\n",
    "\n",
    "    #wipe col\n",
    "    for n, val in enumerate(matrix[0]):\n",
    "        if val == 0:\n",
    "            for temp_row in matrix[1:]:\n",
    "                temp_row[n] = 0\n",
    "\n",
    "    #if first col tracker was true, wipe\n",
    "    if first_row == 0:\n",
    "        matrix[0] = [0 for i in range(len(matrix[0]))]\n",
    "        "
   ]
  },
  {
   "cell_type": "code",
   "execution_count": 92,
   "metadata": {},
   "outputs": [],
   "source": [
    "setZeroes(matrix)"
   ]
  },
  {
   "cell_type": "code",
   "execution_count": 93,
   "metadata": {},
   "outputs": [
    {
     "data": {
      "text/plain": [
       "[[0, 0, 0, 0, 0], [0, 0, 0, 0, 0], [2147483647, 2, -9, -6, 0]]"
      ]
     },
     "execution_count": 93,
     "metadata": {},
     "output_type": "execute_result"
    }
   ],
   "source": [
    "matrix"
   ]
  },
  {
   "cell_type": "markdown",
   "metadata": {},
   "source": [
    "# 54. Spiral Matrix\n",
    "<a id='spiral_matrix'></a>\n",
    "https://leetcode.com/problems/spiral-matrix/\n",
    "\n",
    "intuition:\n",
    "Figured out by myself, but a bit slow at it.\n",
    "\n",
    "- Feels like spiral matrix can be done spirally, if reach the end of a direction just move in clockwise rotation, but how?\n",
    "    1. Set bound, have min max m(row), n(column), adjust boundary after it's reached.\n",
    "    2. Have indicator of which direction to go, set direction tracker, which bound reach, switch direction.\n",
    "\n",
    "time: O(m*n)\n",
    "\n",
    "space: O(1) the lst to return does not count"
   ]
  },
  {
   "cell_type": "code",
   "execution_count": 2,
   "metadata": {},
   "outputs": [],
   "source": [
    "def spiralOrder(matrix):\n",
    "    m, n = 0,0\n",
    "    max_m, max_n = len(matrix) - 1, len(matrix[0]) - 1\n",
    "    min_m, min_n = 1, 0 # min_m starts with 1 since first row is off limit upon init\n",
    "    direction = 'r'\n",
    "    lst = []\n",
    "    while True:\n",
    "        if len(lst) == len(matrix) * len(matrix[0]):\n",
    "            return lst\n",
    "        if direction == 'r':\n",
    "            if n == max_n:\n",
    "                max_n -= 1\n",
    "                direction = 'd'\n",
    "            else:\n",
    "                lst += [matrix[m][n]]\n",
    "                n += 1\n",
    "\n",
    "        #notice it is not elif here, because when direction is switched,\n",
    "        # don't need to wait for next iter to add\n",
    "        if direction == 'd':\n",
    "            if m == max_m:\n",
    "                max_m -= 1\n",
    "                direction = 'l'\n",
    "            else:\n",
    "                lst += [matrix[m][n]]\n",
    "                m += 1\n",
    "\n",
    "        if direction == 'l':\n",
    "            if n == min_n:\n",
    "                min_n += 1\n",
    "                direction = 'u'\n",
    "            else:\n",
    "                lst += [matrix[m][n]]\n",
    "                n -= 1\n",
    "\n",
    "        if direction == 'u':\n",
    "            if m == min_m:\n",
    "                min_m += 1\n",
    "                direction = 'r'\n",
    "            else:\n",
    "                lst += [matrix[m][n]]\n",
    "                m -= 1\n",
    "            "
   ]
  },
  {
   "cell_type": "code",
   "execution_count": 3,
   "metadata": {},
   "outputs": [
    {
     "data": {
      "text/plain": [
       "[1, 2, 3, 6, 9, 8, 7, 4, 5]"
      ]
     },
     "execution_count": 3,
     "metadata": {},
     "output_type": "execute_result"
    }
   ],
   "source": [
    "matrix = [[1,2,3],[4,5,6],[7,8,9]]\n",
    "spiralOrder(matrix)"
   ]
  },
  {
   "attachments": {},
   "cell_type": "markdown",
   "metadata": {},
   "source": [
    "# 48. Rotate Image\n",
    "<a id='rotate_image'></a>\n",
    "\n",
    "https://leetcode.com/problems/rotate-image/description/\n",
    "\n",
    "intuition:\n",
    "\n",
    "Question needs to rotate 2d array to the right in place. Rotating it to the right can be broken down to two steps:\n",
    "\n",
    "1. Transpose\n",
    "2. Inverse row wise (if column wise its rotating left)\n",
    "\n",
    "time: O(n^2) n*n-1+n = O(n)\n",
    "\n",
    "space: O(1) no value stored"
   ]
  },
  {
   "cell_type": "code",
   "execution_count": null,
   "metadata": {},
   "outputs": [],
   "source": [
    "def rotate(self, matrix):\n",
    "    \"\"\"\n",
    "    Do not return anything, modify matrix in-place instead.\n",
    "    \"\"\"\n",
    "    \n",
    "    for i in range(len(matrix)):\n",
    "        for j in range(i+1,len(matrix)):\n",
    "            matrix[i][j], matrix[j][i] = matrix[j][i], matrix[i][j]\n",
    "    \n",
    "    for i in range(len(matrix)):\n",
    "        matrix[i] = matrix[i][::-1]"
   ]
  },
  {
   "attachments": {},
   "cell_type": "markdown",
   "metadata": {},
   "source": [
    "# 79. Word Search\n",
    "<a id='word_search'></a>\n",
    "\n",
    "https://leetcode.com/problems/word-search/description/\n",
    "\n",
    "good dfs review\n",
    "\n",
    "intuition:\n",
    "\n",
    "https://www.youtube.com/watch?v=pfiQ_PS1g8E\n",
    "\n",
    "question states 2d matrix filled with english letters. find if word exist in grid, but the word can be concatenated adacent cells horizontally or vertically.\n",
    "\n",
    "1. thought of it brute force (dfs) starting from each letter, cause no easier/smarter way. need to search each direction.\n",
    "2. When faced with runtime error, added [a,b,c] as pruning (avoid searching in certain branch).\n",
    "\n",
    "time: O(m*n*4^S) m and n are dimension length and 4^S is the need to search in four direction in each space up to length of the word (dfs in each direction).\n",
    "\n",
    "space: O(m*n) counter will always have size of the dimension table."
   ]
  },
  {
   "cell_type": "code",
   "execution_count": null,
   "metadata": {},
   "outputs": [],
   "source": [
    "# intuitive answer without pruning\n",
    "def exist(self, board, word):\n",
    "    ROWS, COLS = len(board), len(board[0])\n",
    "    path = set()\n",
    "\n",
    "    def dfs(row, col, i):\n",
    "        #past word length, therefore matched\n",
    "        if i == len(word):\n",
    "            return True\n",
    "        \n",
    "        if (row < 0 or col < 0 \\\n",
    "        or row >= ROWS or col >= COLS \\\n",
    "        or word[i] != board[row][col] \\\n",
    "        or (row, col) in path):\n",
    "            return False\n",
    "        path.add((row,col))\n",
    "        res = (dfs(row + 1, col, i + 1) or\n",
    "            dfs(row - 1, col, i + 1) or\n",
    "            dfs(row, col + 1, i + 1) or\n",
    "            dfs(row, col - 1, i + 1)\n",
    "            )\n",
    "\n",
    "        path.remove((row,col)) #remove all visited nodes, if not removed,\n",
    "                                # visited node from starting at other letter's index would not start from scratch.\n",
    "        return res\n",
    "    for row in range(ROWS):\n",
    "        for col in range(COLS):\n",
    "            if dfs(row, col, 0): return True\n",
    "    return False"
   ]
  },
  {
   "cell_type": "code",
   "execution_count": null,
   "metadata": {},
   "outputs": [],
   "source": [
    "from collections import Counter\n",
    "from itertools import product\n",
    "\n",
    "def exist(self, board, word):\n",
    "    \n",
    "    m, n = len(board), len(board[0])\n",
    "    \n",
    "    if len(word) > m * n: return False                                    # [a] trivial case to discard\n",
    "\n",
    "    counter = Counter()\n",
    "    for i in range(m):\n",
    "        for j in range(n):\n",
    "            counter[board[i][j]] += 1\n",
    "                                                                \n",
    "    if len(set(word)) > len(set(word).intersection(set(counter.keys()))): # [b] there are not enough\n",
    "        return False                                                      #     letters on the board\n",
    "\n",
    "    if counter[word[0]] > counter[word[-1]]:                              # [c] inverse word if it's better\n",
    "            word = word[::-1]                                             #     to start from the end, example aaaaab in all a's matrix with one b,\n",
    "                                                                          #     will require lots of search, baaaaa is just searching backward \n",
    "                                                                          #     and it will be one single path in this case, which is a lot faster.\n",
    "    \n",
    "    def dfs(i, j, s):                                             # recursive postfix search\n",
    "        \n",
    "        if s == len(word) : return True                           # [1] found the word\n",
    "        \n",
    "        if 0 <= i < m and 0 <= j < n and board[i][j] == word[s]:  # [2] found a letter\n",
    "            board[i][j] = \"#\"                                     # [3] mark as visited\n",
    "            adj = [(i,j+1),(i,j-1),(i+1,j),(i-1,j)]               # [4] iterate over adjacent cells...\n",
    "            dp = any(dfs(ii,jj,s+1) for ii,jj in adj)             # [5] ...and try next letter\n",
    "            board[i][j] = word[s]                                 # [6] remove mark, can use word[s] because ONLY matching letter of that iteration would reach this stage.\n",
    "                                                                  # example: the second iteration would reach B of index 1,0 and 0,1, it's label #, but need to change back\n",
    "                                                                  #          for next new letter's dfs, therefore word[s] work.\n",
    "                                                                  #          word ABC, a 2d matrix of ABC\n",
    "                                                                  #                                   BCE\n",
    "                                                                  #                                   DCE\n",
    "            return dp                                             # [7] return search result\n",
    "\n",
    "        return False                                              # [8] this DFS branch failed\n",
    "            \n",
    "    return any(dfs(i,j,0) for i,j in product(range(m),range(n)))  # search starting from each position"
   ]
  }
 ],
 "metadata": {
  "kernelspec": {
   "display_name": "Python 3.9.12 ('base')",
   "language": "python",
   "name": "python3"
  },
  "language_info": {
   "codemirror_mode": {
    "name": "ipython",
    "version": 3
   },
   "file_extension": ".py",
   "mimetype": "text/x-python",
   "name": "python",
   "nbconvert_exporter": "python",
   "pygments_lexer": "ipython3",
   "version": "3.9.12 (main, Apr  5 2022, 01:52:34) \n[Clang 12.0.0 ]"
  },
  "orig_nbformat": 4,
  "vscode": {
   "interpreter": {
    "hash": "701374d50ac4db7beccaf80d50f0e88af4a070920c8b4efaef856eeba44ba851"
   }
  }
 },
 "nbformat": 4,
 "nbformat_minor": 2
}
