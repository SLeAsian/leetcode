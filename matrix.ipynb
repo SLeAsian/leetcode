{
 "cells": [
  {
   "cell_type": "markdown",
   "metadata": {},
   "source": [
    "[73. Set Matrix Zeroes](#set_matrix_zeroes)\n",
    "\n"
   ]
  },
  {
   "cell_type": "markdown",
   "metadata": {},
   "source": [
    "# 73. Set Matrix Zeroes\n",
    "<a id='set_matrix_zeroes'></a>\n",
    "https://leetcode.com/problems/set-matrix-zeroes/\n",
    "\n",
    "intuition:\n",
    "\n",
    "https://www.youtube.com/watch?v=T41rL0L3Pnw\n",
    "\n",
    "My first solution:\n",
    "- Use two set to keep track of row and column axis. Reason why use set because only care about unique row and columns to set zero on.\n",
    "- loop through matrix two times, one to capture two set's value and one to fill the zero.\n",
    "\n",
    "time: O(m*n) technically 2*m*n\n",
    "\n",
    "space: O(m+n)\n",
    "\n",
    "Optimal solution:\n",
    "- because looping from top left to bottom right, we can use first row and first column to keep track of where to zero.\n",
    "    - KEEP IN MIND, the order is EXTREMELY important. tracking of zero for column and row CANNOT overlap, otherwise will cause zeroing out in wrong places.\n",
    "1. Track if first row need to be wiped to zero, save the track of whether to wipe for now and DO NOT wipe first row yet. We need first row for tracking the columns to wipe.\n",
    "2. Loop through entire matrix to track row and columns to wipe at first row and first column.\n",
    "3. Wipe each row after starting from second row.\n",
    "4. Wipe each column.\n",
    "5. Wipe first row if tracker is True.\n",
    "\n",
    "info:\n",
    "- having one value stored at all time is still O(1) space\n",
    "\n",
    "time: O(m*n) m*n + m + m*n + n"
   ]
  },
  {
   "cell_type": "code",
   "execution_count": 89,
   "metadata": {},
   "outputs": [],
   "source": [
    "matrix = [[-4,-2147483648,6,-7,0],[-8,6,-8,-6,0],[2147483647,2,-9,-6,-10]]"
   ]
  },
  {
   "cell_type": "code",
   "execution_count": 90,
   "metadata": {},
   "outputs": [],
   "source": [
    "def setZeroes(matrix):\n",
    "    m_tracker = set()\n",
    "    n_tracker = set()\n",
    "    for m, row in enumerate(matrix):\n",
    "        row_wipe = False\n",
    "        for n, val in enumerate(row):\n",
    "            if val == 0:\n",
    "                m_tracker.add(m)\n",
    "                n_tracker.add(n)\n",
    "    for m, row in enumerate(matrix):\n",
    "        if m in m_tracker:\n",
    "            matrix[m] = [0 for i in range(len(row))]\n",
    "        for n, val in enumerate(row):\n",
    "            if n in n_tracker:\n",
    "                row[n] = 0"
   ]
  },
  {
   "cell_type": "code",
   "execution_count": 91,
   "metadata": {},
   "outputs": [],
   "source": [
    "def setZeroes(matrix):\n",
    "    \"\"\"\n",
    "    Do not return anything, modify matrix in-place instead.\n",
    "    \"\"\"\n",
    "    #set tracker for first row to wipe or not\n",
    "    first_row = 1\n",
    "    for val in matrix[0]:\n",
    "        if val == 0:\n",
    "            first_row = 0\n",
    "\n",
    "    #starting from 2nd row, keep track of row\n",
    "    # and col to wipe, store at first row and col\n",
    "    # (why not start at first row? cause first row is \n",
    "    # already tracking itself for col to wipe)\n",
    "    for m, row in enumerate(matrix[1:]):\n",
    "        m += 1\n",
    "        for n, val in enumerate(row):\n",
    "            if val == 0:\n",
    "                matrix[0][n] = 0\n",
    "                matrix[m][0] = 0       \n",
    "\n",
    "    #wipe row after first col\n",
    "    for m, row in enumerate(matrix[1:]):\n",
    "        m += 1\n",
    "        if row[0] == 0:\n",
    "            matrix[m] = [0 for i in range(len(row))]\n",
    "\n",
    "    #wipe col\n",
    "    for n, val in enumerate(matrix[0]):\n",
    "        if val == 0:\n",
    "            for temp_row in matrix[1:]:\n",
    "                temp_row[n] = 0\n",
    "\n",
    "    #if first col tracker was true, wipe\n",
    "    if first_row == 0:\n",
    "        matrix[0] = [0 for i in range(len(matrix[0]))]\n",
    "        "
   ]
  },
  {
   "cell_type": "code",
   "execution_count": 92,
   "metadata": {},
   "outputs": [],
   "source": [
    "setZeroes(matrix)"
   ]
  },
  {
   "cell_type": "code",
   "execution_count": 93,
   "metadata": {},
   "outputs": [
    {
     "data": {
      "text/plain": [
       "[[0, 0, 0, 0, 0], [0, 0, 0, 0, 0], [2147483647, 2, -9, -6, 0]]"
      ]
     },
     "execution_count": 93,
     "metadata": {},
     "output_type": "execute_result"
    }
   ],
   "source": [
    "matrix"
   ]
  }
 ],
 "metadata": {
  "kernelspec": {
   "display_name": "Python 3.9.12 ('base')",
   "language": "python",
   "name": "python3"
  },
  "language_info": {
   "codemirror_mode": {
    "name": "ipython",
    "version": 3
   },
   "file_extension": ".py",
   "mimetype": "text/x-python",
   "name": "python",
   "nbconvert_exporter": "python",
   "pygments_lexer": "ipython3",
   "version": "3.9.12"
  },
  "orig_nbformat": 4,
  "vscode": {
   "interpreter": {
    "hash": "701374d50ac4db7beccaf80d50f0e88af4a070920c8b4efaef856eeba44ba851"
   }
  }
 },
 "nbformat": 4,
 "nbformat_minor": 2
}
