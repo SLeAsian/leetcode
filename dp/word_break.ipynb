{
 "cells": [
  {
   "cell_type": "markdown",
   "metadata": {},
   "source": [
    "https://leetcode.com/problems/word-break/\n",
    "\n",
    "dp intuition: https://www.youtube.com/watch?v=Sx9NNgInc3A\n",
    "\n",
    "1. Draw out decision tree and note index on where to split then find base case (which is dp[len(s) + 1] = True).\n",
    "2. Then find all from dp[len(s) + 1] to dp[0]\n",
    "3. Realize pattern is dp[0 + len(w)]"
   ]
  },
  {
   "cell_type": "code",
   "execution_count": 1,
   "metadata": {},
   "outputs": [],
   "source": [
    "def wordBreak(s, wordDict):\n",
    "    dp = [False] * (len(s) + 1) #need to add 1 more because of the base case\n",
    "    dp[len(s)] = True #base case for recursion\n",
    "    for i in range(len(s) - 1, -1, -1): #loop backward from last index\n",
    "        for word in wordDict:\n",
    "            #first check if word will be out of bound, if not then see if word matches\n",
    "            if (i + len(word)) <= len(s) and s[i: i+ len(word)] == word:\n",
    "                dp[i] = dp[i + len(word)] # the dp relationship found\n",
    "            if dp[i]:\n",
    "                break\n",
    "    return dp[0]"
   ]
  },
  {
   "cell_type": "code",
   "execution_count": null,
   "metadata": {},
   "outputs": [],
   "source": [
    "#other leetcoder's solution\n",
    "def wordBreak(s, words):\n",
    "    ok = [True]  # ok[i] tells whether s[:i] can be built\n",
    "    for i in range(1, len(s)+1):\n",
    "        print(i)\n",
    "        tmp = False\n",
    "        for j in range(i):\n",
    "            print(s[j:i])\n",
    "            if s[j:i] in words and ok[j]:\n",
    "                tmp = True\n",
    "        ok.append(tmp)\n",
    "        print(ok)\n",
    "    print(ok)\n",
    "    return ok[-1]"
   ]
  }
 ],
 "metadata": {
  "interpreter": {
   "hash": "6238c9377cd0a1650191ba44b4dabc802a540415d4bccf8dc3bca8403f4aed01"
  },
  "kernelspec": {
   "display_name": "Python 3.8.9 64-bit",
   "language": "python",
   "name": "python3"
  },
  "language_info": {
   "codemirror_mode": {
    "name": "ipython",
    "version": 3
   },
   "file_extension": ".py",
   "mimetype": "text/x-python",
   "name": "python",
   "nbconvert_exporter": "python",
   "pygments_lexer": "ipython3",
   "version": "3.8.9"
  },
  "orig_nbformat": 4
 },
 "nbformat": 4,
 "nbformat_minor": 2
}
