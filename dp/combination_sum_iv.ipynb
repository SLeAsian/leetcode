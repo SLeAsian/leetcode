{
 "cells": [
  {
   "cell_type": "markdown",
   "metadata": {},
   "source": [
    "https://leetcode.com/problems/combination-sum-iv/\n",
    "\n",
    "dp intuition: https://www.youtube.com/watch?v=dw2nMCxG0ik\n",
    "1. graph out decision tree of cost as edge and result as node\n",
    "2. observe repeated calculation\n",
    "3. realize the buttom up solution is just with for loop with 1+ incremental from 0 to calculate current dp number. With each current number, we just need to minus with all num in the nums(array given). The output array will be previous dp already calculated or cannot be calculated (will have cost of 0). Sum them up and you have current dp possible combination.\n",
    "\n",
    "time: O(n*m) array length and nums length\n",
    "\n",
    "space: O(n) array"
   ]
  },
  {
   "cell_type": "markdown",
   "metadata": {},
   "source": [
    "![title](dp_pics/combination_sum_iv.png)"
   ]
  },
  {
   "cell_type": "code",
   "execution_count": 1,
   "metadata": {},
   "outputs": [],
   "source": [
    "def combinationSum4(nums, target):\n",
    "    dp = {0:1} #hmm why? we count empty array as one solution? I think we need one because when we arrive at 0 we count it as one solution\n",
    "    for total in range(1, target + 1):\n",
    "        dp[total] = 0 # need to init total key\n",
    "        for num in nums:\n",
    "            dp[total] += dp.get(total-num, 0) #if key does not exist return 0\n",
    "    return dp[target]"
   ]
  },
  {
   "cell_type": "code",
   "execution_count": 2,
   "metadata": {},
   "outputs": [
    {
     "data": {
      "text/plain": [
       "7"
      ]
     },
     "execution_count": 2,
     "metadata": {},
     "output_type": "execute_result"
    }
   ],
   "source": [
    "combinationSum4([1,2,3], 4)"
   ]
  }
 ],
 "metadata": {
  "interpreter": {
   "hash": "504c684b054aaddbaca0cdaa4744a101c26f93a0eabb48f9bfb51c1f861a0dd4"
  },
  "kernelspec": {
   "display_name": "Python 3.8.8 ('base')",
   "language": "python",
   "name": "python3"
  },
  "language_info": {
   "codemirror_mode": {
    "name": "ipython",
    "version": 3
   },
   "file_extension": ".py",
   "mimetype": "text/x-python",
   "name": "python",
   "nbconvert_exporter": "python",
   "pygments_lexer": "ipython3",
   "version": "3.8.8"
  },
  "orig_nbformat": 4
 },
 "nbformat": 4,
 "nbformat_minor": 2
}
