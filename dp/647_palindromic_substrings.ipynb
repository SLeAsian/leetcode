{
 "cells": [
  {
   "cell_type": "markdown",
   "metadata": {},
   "source": [
    "https://leetcode.com/problems/palindromic-substrings/\n",
    "\n",
    "dp intuition: https://www.youtube.com/watch?v=4RACzI5-du8\n",
    "\n",
    "- fastest way to check palindrome: center out, get index of center and move out one index at a time. Check only the moved out index, since if the center match, then you only need to match outer ones.\n",
    "- odd palindrome: \"aba\", even palindrome: \"abba\" are two cases to care of.\n",
    "\n",
    "for loop through each index and check odd and even palindrome.\n",
    "\n",
    "time: O(n^2)\n",
    "\n",
    "space: O(1)"
   ]
  },
  {
   "cell_type": "code",
   "execution_count": 12,
   "metadata": {},
   "outputs": [],
   "source": [
    "#my solution\n",
    "def countSubstrings(s):\n",
    "    count = 0\n",
    "    \n",
    "    for i in range(len(s)):\n",
    "        # for odd\n",
    "        count += 1 #every single index is palindrome\n",
    "        i_to_add = 1\n",
    "        while i + i_to_add < len(s) and i - i_to_add >= 0:\n",
    "            if s[i - i_to_add] ==  s[i + i_to_add]:\n",
    "                count += 1\n",
    "            else:\n",
    "                break\n",
    "            i_to_add += 1\n",
    "        # for even\n",
    "        #make sure even not out of range\n",
    "        if i + 1 < len(s):\n",
    "            if s[i] == s[i+ 1]:\n",
    "                count += 1\n",
    "                i_to_add_even = 1\n",
    "                while i + 1 + i_to_add_even < len(s) and i - i_to_add_even >= 0:\n",
    "                    if s[i - i_to_add_even] ==  s[i + 1 +i_to_add_even]:\n",
    "                        count += 1\n",
    "                    else:\n",
    "                        break\n",
    "                    i_to_add_even += 1\n",
    "    return count"
   ]
  },
  {
   "cell_type": "code",
   "execution_count": 9,
   "metadata": {},
   "outputs": [],
   "source": [
    "#ideal clean code\n",
    "def countSubstrings(s):\n",
    "    res = 0\n",
    "    for i in range(len(s)):\n",
    "        res += countPali(s,i,i)\n",
    "        res += countPali(s,i,i + 1)\n",
    "    return res\n",
    "\n",
    "def countPali(s,l,r):\n",
    "    res = 0\n",
    "    while l >= 0 and r < len(s) and s[l] == s[r]:\n",
    "        res += 1\n",
    "        l -= 1\n",
    "        r += 1\n",
    "    return res"
   ]
  },
  {
   "cell_type": "code",
   "execution_count": 13,
   "metadata": {},
   "outputs": [
    {
     "data": {
      "text/plain": [
       "4"
      ]
     },
     "execution_count": 13,
     "metadata": {},
     "output_type": "execute_result"
    }
   ],
   "source": [
    "countSubstrings('aba')"
   ]
  }
 ],
 "metadata": {
  "interpreter": {
   "hash": "6238c9377cd0a1650191ba44b4dabc802a540415d4bccf8dc3bca8403f4aed01"
  },
  "kernelspec": {
   "display_name": "Python 3.8.9 64-bit",
   "language": "python",
   "name": "python3"
  },
  "language_info": {
   "codemirror_mode": {
    "name": "ipython",
    "version": 3
   },
   "file_extension": ".py",
   "mimetype": "text/x-python",
   "name": "python",
   "nbconvert_exporter": "python",
   "pygments_lexer": "ipython3",
   "version": "3.8.9"
  },
  "orig_nbformat": 4
 },
 "nbformat": 4,
 "nbformat_minor": 2
}
