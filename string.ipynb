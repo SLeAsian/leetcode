{
 "cells": [
  {
   "cell_type": "markdown",
   "metadata": {},
   "source": [
    "[3. Longest Substring Without Repeating Characters](#longest_sub_without_char)"
   ]
  },
  {
   "cell_type": "markdown",
   "metadata": {},
   "source": [
    "# 3. Longest Substring Without Repeating Characters\n",
    "<a id='longest_sub_without_char'></a>\n",
    "https://leetcode.com/problems/longest-substring-without-repeating-characters/\n",
    "\n",
    "intuition: https://leetcode.com/problems/longest-substring-without-repeating-characters/discuss/1731/A-Python-solution-85ms-O(n)\n",
    "\n",
    "sliding windows\n",
    "\n",
    "notice brute force solution is 2 for loop. one for first char at each index and second for all chars after until it hits repeated. This will require O(n^2) time and O(n) space, which is inefficient.\n",
    "\n",
    "Instead, notice at each index, we keep looking right until we see a duplicate, we don't have to stop and start all over again at the next index, but we can remove the duplicate on the left side and the strings at the left side of the removed duplicate. This will save repeated computation as seen in brute force. This is called sliding windows.\n",
    "\n",
    "time complexity: mine O(n*k) k is the dict comprehension, which can be avoided in opitimal solution, though k should be fast, since its regenerating the current start to i strings. Optimal solution is O(n).\n",
    "space: mine O(n)"
   ]
  },
  {
   "cell_type": "code",
   "execution_count": 61,
   "metadata": {},
   "outputs": [],
   "source": [
    "def lengthOfLongestSubstring(s):\n",
    "    #my solution\n",
    "    dct = {}\n",
    "    least = max_sub = 0\n",
    "    i = 0\n",
    "    while i < len(s):\n",
    "        if s[i] in dct and least <= dct[s[i]]:\n",
    "            least = dct[s[i]] + 1\n",
    "            dct = {s[i]:i for i in range(dct[s[i]] + 1, i + 1)}\n",
    "        else:\n",
    "            dct[s[i]] = i\n",
    "            max_sub = max(max_sub, len(s[least:i + 1]))\n",
    "        i += 1\n",
    "    return max_sub"
   ]
  },
  {
   "cell_type": "code",
   "execution_count": null,
   "metadata": {},
   "outputs": [],
   "source": [
    "def lengthOfLongestSubstring(s):\n",
    "    start = maxLength = 0\n",
    "    usedChar = {}\n",
    "\n",
    "    for i in range(len(s)):\n",
    "        #need start <= current cur index so we do put start BEFORE already removed chars\n",
    "        #in tmmzuxta example, start at 2 (because m) and when see second t,\n",
    "        # should not put start right after t, because already removed\n",
    "        if s[i] in usedChar and start <= usedChar[s[i]]:\n",
    "            start = usedChar[s[i]] + 1\n",
    "        else:\n",
    "            maxLength = max(maxLength, i - start + 1)\n",
    "\n",
    "        usedChar[s[i]] = i\n",
    "\n",
    "    return maxLength"
   ]
  },
  {
   "cell_type": "code",
   "execution_count": 63,
   "metadata": {},
   "outputs": [
    {
     "data": {
      "text/plain": [
       "6"
      ]
     },
     "execution_count": 63,
     "metadata": {},
     "output_type": "execute_result"
    }
   ],
   "source": [
    "lengthOfLongestSubstring('tmmzuxta')"
   ]
  }
 ],
 "metadata": {
  "kernelspec": {
   "display_name": "Python 3.8.9 64-bit",
   "language": "python",
   "name": "python3"
  },
  "language_info": {
   "codemirror_mode": {
    "name": "ipython",
    "version": 3
   },
   "file_extension": ".py",
   "mimetype": "text/x-python",
   "name": "python",
   "nbconvert_exporter": "python",
   "pygments_lexer": "ipython3",
   "version": "3.8.9"
  },
  "orig_nbformat": 4,
  "vscode": {
   "interpreter": {
    "hash": "6238c9377cd0a1650191ba44b4dabc802a540415d4bccf8dc3bca8403f4aed01"
   }
  }
 },
 "nbformat": 4,
 "nbformat_minor": 2
}
