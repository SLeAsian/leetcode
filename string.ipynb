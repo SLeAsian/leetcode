{
 "cells": [
  {
   "cell_type": "markdown",
   "metadata": {},
   "source": [
    "[3. Longest Substring Without Repeating Characters](#longest_sub_without_char)\n",
    "\n",
    "[424. Longest Repeating Character Replacement](#longest_repeating_char_replace)\n",
    "\n",
    "[242. Valid Anagram](#valid_anagram)\n",
    "\n",
    "[49. Group Anagrams](#group_anagram)\n",
    "\n",
    "[20. Valid Parentheses](#valid_parantheses)\n",
    "\n",
    "[125. Valid Palindrome](#valid_palindrome)\n",
    "\n",
    "[5. Longest Palindromic Substring](#longest_parlindrome)"
   ]
  },
  {
   "cell_type": "markdown",
   "metadata": {},
   "source": [
    "# 3. Longest Substring Without Repeating Characters\n",
    "<a id='longest_sub_without_char'></a>\n",
    "https://leetcode.com/problems/longest-substring-without-repeating-characters/\n",
    "\n",
    "intuition: https://leetcode.com/problems/longest-substring-without-repeating-characters/discuss/1731/A-Python-solution-85ms-O(n)\n",
    "\n",
    "sliding windows\n",
    "\n",
    "notice brute force solution is 2 for loop. one for first char at each index and second for all chars after until it hits repeated. This will require O(n^2) time and O(n) space, which is inefficient.\n",
    "\n",
    "Instead, notice at each index, we keep looking right until we see a duplicate, we don't have to stop and start all over again at the next index, but we can remove the duplicate on the left side and the strings at the left side of the removed duplicate. This will save repeated computation as seen in brute force. This is called sliding windows.\n",
    "\n",
    "time complexity: mine O(n*k) k is the dict comprehension, which can be avoided in opitimal solution, though k should be fast, since its regenerating the current start to i strings. Optimal solution is O(n).\n",
    "\n",
    "space: mine O(n)"
   ]
  },
  {
   "cell_type": "code",
   "execution_count": 128,
   "metadata": {},
   "outputs": [],
   "source": [
    "def lengthOfLongestSubstring(s):\n",
    "    #my solution\n",
    "    dct = {}\n",
    "    least = max_sub = 0\n",
    "    i = 0\n",
    "    while i < len(s):\n",
    "        if s[i] in dct and least <= dct[s[i]]:\n",
    "            least = dct[s[i]] + 1\n",
    "            dct = {s[i]:i for i in range(dct[s[i]] + 1, i + 1)}\n",
    "        else:\n",
    "            dct[s[i]] = i\n",
    "            max_sub = max(max_sub, len(s[least:i + 1]))\n",
    "        i += 1\n",
    "    return max_sub"
   ]
  },
  {
   "cell_type": "code",
   "execution_count": 129,
   "metadata": {},
   "outputs": [],
   "source": [
    "def lengthOfLongestSubstring(s):\n",
    "    start = maxLength = 0\n",
    "    usedChar = {}\n",
    "\n",
    "    for i in range(len(s)):\n",
    "        #need start <= current cur index so we do put start BEFORE already removed chars\n",
    "        #in tmmzuxta example, start at 2 (because m) and when see second t,\n",
    "        # should not put start right after t, because already removed\n",
    "        if s[i] in usedChar and start <= usedChar[s[i]]:\n",
    "            start = usedChar[s[i]] + 1\n",
    "        else:\n",
    "            maxLength = max(maxLength, i - start + 1)\n",
    "\n",
    "        usedChar[s[i]] = i\n",
    "\n",
    "    return maxLength"
   ]
  },
  {
   "cell_type": "code",
   "execution_count": 130,
   "metadata": {},
   "outputs": [
    {
     "data": {
      "text/plain": [
       "6"
      ]
     },
     "execution_count": 130,
     "metadata": {},
     "output_type": "execute_result"
    }
   ],
   "source": [
    "lengthOfLongestSubstring('tmmzuxta')"
   ]
  },
  {
   "cell_type": "markdown",
   "metadata": {},
   "source": [
    "# 424. Longest Repeating Character Replacement\n",
    "<a id='longest_repeating_char_replace'></a>\n",
    "\n",
    "https://leetcode.com/problems/longest-repeating-character-replacement/\n",
    "\n",
    "intuition: https://www.youtube.com/watch?v=gqXU1UyA8pk\n",
    "\n",
    "sliding window\n",
    "\n",
    "Problem noticed, how do I know where to replace char? Like for AABABABA k = 1, how do I know it's at second index and not others?\n",
    "\n",
    "I realized a sliding window method may work well in this case. Since we need to know longest substring with some condition. The condition in this case is at each iteration of sliding window, **we keep track of length of string as long as number k is still greater and equal to number of chars being replaced**, we can just replace out of place chars to the most common char. **If not just move left poitner inward and up k to positive again**.\n",
    "\n",
    "time complexity: O(26*n) so O(n), 26 alphabat is constant time comparison will not scale like n.\n",
    "\n",
    "space: O(1) potentially up to 26 alphabats(won't scale/increase out of that, so constant space)."
   ]
  },
  {
   "cell_type": "code",
   "execution_count": 131,
   "metadata": {},
   "outputs": [],
   "source": [
    "def characterReplacement(s,k):\n",
    "    #my solution\n",
    "    cur_max = l = r = 0\n",
    "    dct = {}\n",
    "\n",
    "    while r < len(s):\n",
    "        if s[r] not in dct:\n",
    "            dct[s[r]] = 1\n",
    "        else:\n",
    "            dct[s[r]] = dct[s[r]] + 1\n",
    "        max_key = max(dct, key=dct.get)\n",
    "        while k < r - l + 1 - dct[max_key]:\n",
    "            if dct[s[l]] - 1 == 0:\n",
    "                dct.pop(s[l])\n",
    "            else:\n",
    "                dct[s[l]] = dct[s[l]] - 1\n",
    "            l += 1\n",
    "            max_key = max(dct, key=dct.get)\n",
    "        cur_max = max(cur_max, r - l + 1)\n",
    "        r += 1\n",
    "\n",
    "    return cur_max"
   ]
  },
  {
   "cell_type": "code",
   "execution_count": 132,
   "metadata": {},
   "outputs": [],
   "source": [
    "def characterReplacement(s,k):\n",
    "    #O(26n) time optimal solution\n",
    "    count = {}\n",
    "    res = 0\n",
    "    l = 0\n",
    "    for r in range(len(s)):\n",
    "        count[s[r]] = 1 + count.get(s[r], 0 ) #.get get value, if not exist return 0\n",
    "\n",
    "        while (r - l + 1) - max(count.values()) > k:\n",
    "            count[s[l]] -= 1\n",
    "            l += 1\n",
    "            \n",
    "        res = max(res, r - l + 1)\n",
    "    return res"
   ]
  },
  {
   "cell_type": "code",
   "execution_count": 133,
   "metadata": {},
   "outputs": [],
   "source": [
    "def characterReplacement(s,k):\n",
    "    #O(n) time optimal solution\n",
    "    #This solution differs from above only by replacing max(count.values()) with maxf\n",
    "    #We only need to worry about max char count at each window\n",
    "    count = {}\n",
    "    res = 0\n",
    "    l = 0\n",
    "    maxf = 0\n",
    "    for r in range(len(s)):\n",
    "        count[s[r]] = 1 + count.get(s[r], 0) #.get get value, if not exist return 0\n",
    "        maxf = max(maxf, count[s[r]]) # constant comparison\n",
    "        while (r - l + 1) - maxf > k:\n",
    "            count[s[l]] -= 1\n",
    "            l += 1\n",
    "            \n",
    "        res = max(res, r - l + 1)\n",
    "    return res"
   ]
  },
  {
   "cell_type": "code",
   "execution_count": 134,
   "metadata": {},
   "outputs": [
    {
     "data": {
      "text/plain": [
       "4"
      ]
     },
     "execution_count": 134,
     "metadata": {},
     "output_type": "execute_result"
    }
   ],
   "source": [
    "characterReplacement('AABB',2)"
   ]
  },
  {
   "cell_type": "markdown",
   "metadata": {},
   "source": [
    "# 242. Valid Anagram\n",
    "<a id='valid_anagram'></a>\n",
    "\n",
    "https://leetcode.com/problems/valid-anagram/\n",
    "\n",
    "got it first try!\n",
    "\n",
    "Immeditately thought of two ways:\n",
    "\n",
    "1. hashmap:\n",
    "count characters for s variable and deplete them on t variable, if they match then True else False\n",
    "time complexity: O(n)\n",
    "space: O(1), this part was tricky for me. I thought it would be O(n), but in reality it will only have max 26 letters (english).\n",
    "\n",
    "2. sort:\n",
    "just sort and match\n",
    "sort(s) == sort(t) basically\n",
    "\n",
    "time complexity: O(nlogn)\n",
    "space complexity: O(1)\n"
   ]
  },
  {
   "cell_type": "code",
   "execution_count": 135,
   "metadata": {},
   "outputs": [],
   "source": [
    "def isAnagram(s,t):\n",
    "    if len(s) != len(t):\n",
    "        return False\n",
    "\n",
    "    hm = {}\n",
    "    for c in s:\n",
    "        hm[c] = hm.get(c, 0) + 1\n",
    "\n",
    "    for c in t:\n",
    "        to_remove = hm.get(c, 't')\n",
    "        if to_remove == 't':\n",
    "            return False\n",
    "        hm[c] -= 1\n",
    "        if hm[c] < 0:\n",
    "            return False\n",
    "\n",
    "    if sum(hm.values()) == 0:\n",
    "        return True\n",
    "    return False"
   ]
  },
  {
   "cell_type": "code",
   "execution_count": 136,
   "metadata": {},
   "outputs": [
    {
     "data": {
      "text/plain": [
       "True"
      ]
     },
     "execution_count": 136,
     "metadata": {},
     "output_type": "execute_result"
    }
   ],
   "source": [
    "isAnagram(\"anagram\", \"nagaram\")"
   ]
  },
  {
   "cell_type": "markdown",
   "metadata": {},
   "source": [
    "# 49. Group Anagrams\n",
    "<a id='group_anagram'></a>\n",
    "https://leetcode.com/problems/group-anagrams/\n",
    "\n",
    "intuition:\n",
    "\n",
    "did it by myself first try!\n",
    "\n",
    "1. Noticed in simple anagram question there are two solutions: hashmap or sort.\n",
    "2. Using only hashmap in this case would be extremely difficult, because I would need a hashmap for every single word. Too much data and difficult to trace what hashmap matches what.\n",
    "3. Realize sorting words within list will allow easy matching using hashmap.\n",
    "\n",
    "time complexity: O(n*mlogm) sorting for each str within strs variable.\n",
    "\n",
    "space complexity: O(n) for storing sorted words list"
   ]
  },
  {
   "cell_type": "code",
   "execution_count": 137,
   "metadata": {},
   "outputs": [],
   "source": [
    "def groupAnagrams(strs):\n",
    "    words = [''.join(sorted(word)) for word in strs]\n",
    "    dct = {}\n",
    "    for i, word in enumerate(words):\n",
    "        if word in dct:\n",
    "            dct[word] += [strs[i]]\n",
    "        else:\n",
    "            dct[word] = [strs[i]]\n",
    "    return list(dct.values())"
   ]
  },
  {
   "cell_type": "code",
   "execution_count": 138,
   "metadata": {},
   "outputs": [
    {
     "data": {
      "text/plain": [
       "[['eat', 'tea', 'ate'], ['tan', 'nat'], ['bat']]"
      ]
     },
     "execution_count": 138,
     "metadata": {},
     "output_type": "execute_result"
    }
   ],
   "source": [
    "groupAnagrams([\"eat\",\"tea\",\"tan\",\"ate\",\"nat\",\"bat\"])"
   ]
  },
  {
   "cell_type": "markdown",
   "metadata": {},
   "source": [
    "# 20. Valid Parentheses\n",
    "<a id = \"valid parantheses\"></a>\n",
    "https://leetcode.com/problems/valid-parentheses/\n",
    "\n",
    "intuition:\n",
    " did it by myself! Notice question marked only mirrored parantheses as valid, so [({})] but not [(]).\n",
    "\n",
    " - Use stack when you want things to come out in reverse order. In this case mirroring is a good utilization of stack (reversing strings), which is the solution below.\n",
    "\n",
    " - Also noticed I can cut them in half to compare left and right are mirroed or not, but it is less efficient than below, because it will ALWAYS have to loop through the entire string to compare.\n",
    "\n",
    " time complexity: O(n) one pass\n",
    "\n",
    " space complexity: O(n) fixed dct, but stack may be kept on added like '((('"
   ]
  },
  {
   "cell_type": "code",
   "execution_count": 139,
   "metadata": {},
   "outputs": [],
   "source": [
    "def isValid(s):\n",
    "    stack = []\n",
    "    dct = {'(':')','{':'}','[':']'}\n",
    "    for b in s:\n",
    "        if b in dct:\n",
    "            stack.append(b)\n",
    "        else:\n",
    "            if len(stack) > 0:\n",
    "                if dct[stack.pop()] != b:\n",
    "                    return False\n",
    "            else:\n",
    "                return False\n",
    "    if len(stack) > 0:\n",
    "        return False\n",
    "    return True"
   ]
  },
  {
   "cell_type": "code",
   "execution_count": 140,
   "metadata": {},
   "outputs": [
    {
     "data": {
      "text/plain": [
       "True"
      ]
     },
     "execution_count": 140,
     "metadata": {},
     "output_type": "execute_result"
    }
   ],
   "source": [
    "isValid('(([]))')"
   ]
  },
  {
   "cell_type": "markdown",
   "metadata": {},
   "source": [
    "# 125. Valid Palindrome\n",
    "<a id = \"valid_palindrome\"></a>\n",
    "https://leetcode.com/problems/valid-palindrome/\n",
    "\n",
    "intuition:\n",
    "did it by myself first try\n",
    "\n",
    "noticed question is palindrome, two pointer from mid is fastest and constant space.\n",
    "\n",
    "time complexity: O(n/2) = O(n), not O(logn), because it is not constantly divided, but only once.\n",
    "\n",
    "space complexity: O(1)"
   ]
  },
  {
   "cell_type": "code",
   "execution_count": 141,
   "metadata": {},
   "outputs": [],
   "source": [
    "import re\n",
    "def isPalindrome(s):\n",
    "    s = re.sub(r'[^a-zA-Z0-9]', '', s.lower())\n",
    "    if len(s)%2 == 0:\n",
    "        mid = len(s)//2\n",
    "        l = mid - 1\n",
    "        r = mid\n",
    "        while l > -1 and r < len(s):\n",
    "            if s[l] != s[r]:\n",
    "                return False\n",
    "            l -= 1\n",
    "            r += 1\n",
    "        return True\n",
    "    else:\n",
    "        mid = len(s)//2\n",
    "        l = mid - 1\n",
    "        r = mid + 1\n",
    "        while l > -1 and r < len(s):\n",
    "            if s[l] != s[r]:\n",
    "                return False\n",
    "            l -= 1\n",
    "            r += 1\n",
    "        return True"
   ]
  },
  {
   "cell_type": "code",
   "execution_count": 142,
   "metadata": {},
   "outputs": [
    {
     "data": {
      "text/plain": [
       "False"
      ]
     },
     "execution_count": 142,
     "metadata": {},
     "output_type": "execute_result"
    }
   ],
   "source": [
    "isPalindrome('abaa')"
   ]
  },
  {
   "cell_type": "markdown",
   "metadata": {},
   "source": [
    "# 5. Longest Palindromic Substring\n",
    "<a id = \"valid_palindrome\"></a>\n",
    "\n",
    "https://leetcode.com/problems/longest-palindromic-substring/\n",
    "\n",
    "did it by myself\n",
    "\n",
    "intuition:\n",
    "Almost the same as finding all the palindromic substrings problem, just keep track of longest.\n",
    "- loop through each index and see longest palindrome for each index\n",
    "- palindrome is mirrored, so center out and match only most outter letter for best efficiency.\n",
    "- care about odd and even case for mid\n",
    "- DO BOTH odd and even case!!! why? example: \"aaaa\" when i = 1, if i only check odd and find longest, will miss out on aaaa. If check even first else odd, then the case: \"aaa\", when i = 1 it will check even at index 2 and 3, then determine only 2,3 is the longest, which is False. Therefore, an if odd else statement does not cover the cases, we need to do both odd and even calculation."
   ]
  },
  {
   "cell_type": "code",
   "execution_count": 53,
   "metadata": {},
   "outputs": [],
   "source": [
    "def longestPalindrome(s):\n",
    "    longest_str = s[0]\n",
    "    for i, letter in enumerate(s):\n",
    "        l, r = i -1, i + 1\n",
    "        while l >= 0 and r < len(s):\n",
    "            if s[l] == s[r]:\n",
    "                if len(s[l:r + 1]) > len(longest_str):\n",
    "                    longest_str = s[l:r + 1]\n",
    "            else:\n",
    "                break\n",
    "            l -= 1\n",
    "            r += 1\n",
    "        if i + 1 < len(s):\n",
    "            if s[i + 1] == s[i]:\n",
    "                if len(s[i:i + 2]) > len(longest_str):\n",
    "                    longest_str = s[i:i + 2]\n",
    "                l, r = i -1, i + 2\n",
    "                while l >= 0 and r < len(s):\n",
    "                    if s[l] == s[r]:\n",
    "                        if len(s[l:r + 1]) > len(longest_str):\n",
    "                            longest_str = s[l:r + 1]\n",
    "                    else:\n",
    "                        break\n",
    "                    l -= 1\n",
    "                    r += 1\n",
    "\n",
    "    return longest_str"
   ]
  },
  {
   "cell_type": "code",
   "execution_count": 58,
   "metadata": {},
   "outputs": [],
   "source": [
    "#clean solution\n",
    "def longestPalindrome(s):\n",
    "    \"\"\"\n",
    "    :type s: str\n",
    "    :rtype: str\n",
    "    \"\"\"\n",
    "\n",
    "    res = \"\"\n",
    "    for i in range(len(s)):\n",
    "        res = max(helper(s,i,i), helper(s,i,i+1), res, key=len)\n",
    "\n",
    "    return res\n",
    "\n",
    "\n",
    "def helper(s,l,r):\n",
    "\n",
    "    while 0<=l and r < len(s) and s[l]==s[r]:\n",
    "            l-=1; r+=1\n",
    "    return s[l+1:r]"
   ]
  },
  {
   "cell_type": "code",
   "execution_count": 59,
   "metadata": {},
   "outputs": [
    {
     "data": {
      "text/plain": [
       "'aaa'"
      ]
     },
     "execution_count": 59,
     "metadata": {},
     "output_type": "execute_result"
    }
   ],
   "source": [
    "longestPalindrome('aaa')"
   ]
  }
 ],
 "metadata": {
  "kernelspec": {
   "display_name": "Python 3",
   "language": "python",
   "name": "python3"
  },
  "language_info": {
   "codemirror_mode": {
    "name": "ipython",
    "version": 3
   },
   "file_extension": ".py",
   "mimetype": "text/x-python",
   "name": "python",
   "nbconvert_exporter": "python",
   "pygments_lexer": "ipython3",
   "version": "3.8.8"
  },
  "vscode": {
   "interpreter": {
    "hash": "6238c9377cd0a1650191ba44b4dabc802a540415d4bccf8dc3bca8403f4aed01"
   }
  }
 },
 "nbformat": 4,
 "nbformat_minor": 2
}
